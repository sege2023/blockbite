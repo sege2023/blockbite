{
 "cells": [
  {
   "cell_type": "markdown",
   "id": "3fb06eea",
   "metadata": {},
   "source": [
    "## Import Libraries"
   ]
  },
  {
   "cell_type": "code",
   "execution_count": 3,
   "id": "a6871ad3",
   "metadata": {},
   "outputs": [],
   "source": [
    "import pandas as pd\n",
    "import numpy as np\n",
    "from sklearn.metrics.pairwise import cosine_similarity\n",
    "from sklearn.preprocessing import normalize\n",
    "from scipy.sparse import csr_matrix"
   ]
  },
  {
   "cell_type": "markdown",
   "id": "b06abb56",
   "metadata": {},
   "source": [
    "## EDA"
   ]
  },
  {
   "cell_type": "code",
   "execution_count": 4,
   "id": "d0bf340b",
   "metadata": {},
   "outputs": [],
   "source": [
    "# df = pd.read_csv('model\\synthetic_food_orders.csv')\n",
    "df = pd.read_csv(r'C:\\Users\\user\\desktop\\projects\\blockbite\\model\\synthetic_food_orders.csv')"
   ]
  },
  {
   "cell_type": "code",
   "execution_count": 5,
   "id": "3c4319ca",
   "metadata": {},
   "outputs": [
    {
     "data": {
      "application/vnd.microsoft.datawrangler.viewer.v0+json": {
       "columns": [
        {
         "name": "index",
         "rawType": "int64",
         "type": "integer"
        },
        {
         "name": "user_id",
         "rawType": "int64",
         "type": "integer"
        },
        {
         "name": "item",
         "rawType": "object",
         "type": "string"
        },
        {
         "name": "frequency",
         "rawType": "int64",
         "type": "integer"
        }
       ],
       "ref": "d4d23d4a-0eed-4a1d-b71c-919c69b631e9",
       "rows": [
        [
         "0",
         "1",
         "Jollof Rice",
         "2"
        ],
        [
         "1",
         "1",
         "Pasta",
         "1"
        ],
        [
         "2",
         "1",
         "Pizza",
         "5"
        ],
        [
         "3",
         "1",
         "Goat Meat",
         "1"
        ],
        [
         "4",
         "2",
         "Fried Rice",
         "2"
        ]
       ],
       "shape": {
        "columns": 3,
        "rows": 5
       }
      },
      "text/html": [
       "<div>\n",
       "<style scoped>\n",
       "    .dataframe tbody tr th:only-of-type {\n",
       "        vertical-align: middle;\n",
       "    }\n",
       "\n",
       "    .dataframe tbody tr th {\n",
       "        vertical-align: top;\n",
       "    }\n",
       "\n",
       "    .dataframe thead th {\n",
       "        text-align: right;\n",
       "    }\n",
       "</style>\n",
       "<table border=\"1\" class=\"dataframe\">\n",
       "  <thead>\n",
       "    <tr style=\"text-align: right;\">\n",
       "      <th></th>\n",
       "      <th>user_id</th>\n",
       "      <th>item</th>\n",
       "      <th>frequency</th>\n",
       "    </tr>\n",
       "  </thead>\n",
       "  <tbody>\n",
       "    <tr>\n",
       "      <th>0</th>\n",
       "      <td>1</td>\n",
       "      <td>Jollof Rice</td>\n",
       "      <td>2</td>\n",
       "    </tr>\n",
       "    <tr>\n",
       "      <th>1</th>\n",
       "      <td>1</td>\n",
       "      <td>Pasta</td>\n",
       "      <td>1</td>\n",
       "    </tr>\n",
       "    <tr>\n",
       "      <th>2</th>\n",
       "      <td>1</td>\n",
       "      <td>Pizza</td>\n",
       "      <td>5</td>\n",
       "    </tr>\n",
       "    <tr>\n",
       "      <th>3</th>\n",
       "      <td>1</td>\n",
       "      <td>Goat Meat</td>\n",
       "      <td>1</td>\n",
       "    </tr>\n",
       "    <tr>\n",
       "      <th>4</th>\n",
       "      <td>2</td>\n",
       "      <td>Fried Rice</td>\n",
       "      <td>2</td>\n",
       "    </tr>\n",
       "  </tbody>\n",
       "</table>\n",
       "</div>"
      ],
      "text/plain": [
       "   user_id         item  frequency\n",
       "0        1  Jollof Rice          2\n",
       "1        1        Pasta          1\n",
       "2        1        Pizza          5\n",
       "3        1    Goat Meat          1\n",
       "4        2   Fried Rice          2"
      ]
     },
     "execution_count": 5,
     "metadata": {},
     "output_type": "execute_result"
    }
   ],
   "source": [
    "df.head()"
   ]
  },
  {
   "cell_type": "code",
   "execution_count": 6,
   "id": "36c4d721",
   "metadata": {},
   "outputs": [
    {
     "name": "stdout",
     "output_type": "stream",
     "text": [
      "(328, 3)\n"
     ]
    },
    {
     "data": {
      "application/vnd.microsoft.datawrangler.viewer.v0+json": {
       "columns": [
        {
         "name": "index",
         "rawType": "object",
         "type": "string"
        },
        {
         "name": "0",
         "rawType": "int64",
         "type": "integer"
        }
       ],
       "ref": "92f7c521-ccc9-4eca-aa25-5770244a59dd",
       "rows": [
        [
         "user_id",
         "0"
        ],
        [
         "item",
         "0"
        ],
        [
         "frequency",
         "0"
        ]
       ],
       "shape": {
        "columns": 1,
        "rows": 3
       }
      },
      "text/plain": [
       "user_id      0\n",
       "item         0\n",
       "frequency    0\n",
       "dtype: int64"
      ]
     },
     "execution_count": 6,
     "metadata": {},
     "output_type": "execute_result"
    }
   ],
   "source": [
    "data_shape = df.shape\n",
    "print(data_shape)\n",
    "df.isnull().sum()"
   ]
  },
  {
   "cell_type": "code",
   "execution_count": 7,
   "id": "ccc1d338",
   "metadata": {},
   "outputs": [
    {
     "name": "stdout",
     "output_type": "stream",
     "text": [
      "Number of unique users: 50\n",
      "Number of unique items: 20\n"
     ]
    }
   ],
   "source": [
    "unique_users = df['user_id'].nunique()\n",
    "unique_items = df['item'].nunique()\n",
    "print(f'Number of unique users: {unique_users}')\n",
    "print(f'Number of unique items: {unique_items}')"
   ]
  },
  {
   "cell_type": "code",
   "execution_count": 8,
   "id": "861d33a6",
   "metadata": {},
   "outputs": [
    {
     "name": "stdout",
     "output_type": "stream",
     "text": [
      "item\n",
      "Amala             9\n",
      "Chicken Wings    13\n",
      "Efo Riro         13\n",
      "Ice Cream        13\n",
      "Shawarma         14\n",
      "Pounded Yam      15\n",
      "Goat Meat        15\n",
      "Plantain         15\n",
      "Salad            15\n",
      "Suya             16\n",
      "Fried Rice       17\n",
      "Beans            17\n",
      "Sandwich         18\n",
      "Pizza            18\n",
      "Fish Stew        18\n",
      "Egusi Soup       19\n",
      "Fufu             20\n",
      "Jollof Rice      20\n",
      "Burger           21\n",
      "Pasta            22\n",
      "Name: user_id, dtype: int64\n"
     ]
    }
   ],
   "source": [
    "food_popularity =  df.groupby('item')['user_id'].nunique()\n",
    "\n",
    "print(food_popularity.sort_values())\n"
   ]
  },
  {
   "cell_type": "code",
   "execution_count": 9,
   "id": "07b075aa",
   "metadata": {},
   "outputs": [
    {
     "name": "stdout",
     "output_type": "stream",
     "text": [
      "Series([], Name: user_id, dtype: int64)\n"
     ]
    }
   ],
   "source": [
    "rare_foods = food_popularity[food_popularity <= 2]\n",
    "print(rare_foods)"
   ]
  },
  {
   "cell_type": "code",
   "execution_count": 10,
   "id": "f197a1f2",
   "metadata": {},
   "outputs": [
    {
     "name": "stdout",
     "output_type": "stream",
     "text": [
      "user_id\n",
      "11     5\n",
      "4      7\n",
      "14     9\n",
      "1      9\n",
      "15     9\n",
      "43     9\n",
      "30    10\n",
      "26    11\n",
      "48    11\n",
      "5     12\n",
      "29    12\n",
      "21    13\n",
      "20    14\n",
      "10    15\n",
      "23    16\n",
      "16    16\n",
      "44    16\n",
      "39    16\n",
      "22    17\n",
      "33    17\n",
      "45    18\n",
      "46    18\n",
      "25    18\n",
      "24    19\n",
      "40    19\n",
      "49    19\n",
      "50    20\n",
      "6     20\n",
      "12    21\n",
      "13    21\n",
      "17    21\n",
      "31    21\n",
      "36    23\n",
      "19    23\n",
      "18    24\n",
      "34    24\n",
      "27    24\n",
      "28    26\n",
      "35    27\n",
      "37    27\n",
      "2     28\n",
      "8     28\n",
      "9     28\n",
      "3     29\n",
      "42    29\n",
      "32    29\n",
      "47    30\n",
      "7     31\n",
      "41    34\n",
      "38    36\n",
      "Name: frequency, dtype: int64\n",
      "count    50.000000\n",
      "mean     19.580000\n",
      "std       7.529778\n",
      "min       5.000000\n",
      "25%      14.250000\n",
      "50%      19.000000\n",
      "75%      25.500000\n",
      "max      36.000000\n",
      "Name: frequency, dtype: float64\n",
      "user_id\n",
      "11    5\n",
      "Name: frequency, dtype: int64\n"
     ]
    }
   ],
   "source": [
    "user_activity = df.groupby('user_id')['frequency'].sum()\n",
    "print(user_activity.sort_values())\n",
    "print(user_activity.describe()) \n",
    "\n",
    "inactive_users = user_activity[user_activity <= 5] \n",
    "print(inactive_users) "
   ]
  },
  {
   "cell_type": "code",
   "execution_count": 11,
   "id": "71eba251",
   "metadata": {},
   "outputs": [
    {
     "name": "stdout",
     "output_type": "stream",
     "text": [
      "user_id\n",
      "15     3\n",
      "11     3\n",
      "30     3\n",
      "48     3\n",
      "43     3\n",
      "14     4\n",
      "10     4\n",
      "1      4\n",
      "5      4\n",
      "4      4\n",
      "21     5\n",
      "23     5\n",
      "49     5\n",
      "46     5\n",
      "20     5\n",
      "29     5\n",
      "26     6\n",
      "31     6\n",
      "40     6\n",
      "45     6\n",
      "19     6\n",
      "22     6\n",
      "24     6\n",
      "50     6\n",
      "33     6\n",
      "39     6\n",
      "16     6\n",
      "25     7\n",
      "12     7\n",
      "35     7\n",
      "34     7\n",
      "13     7\n",
      "17     8\n",
      "32     8\n",
      "6      8\n",
      "44     8\n",
      "27     8\n",
      "8      9\n",
      "3      9\n",
      "7      9\n",
      "47     9\n",
      "28     9\n",
      "2      9\n",
      "18     9\n",
      "41     9\n",
      "9     10\n",
      "37    10\n",
      "38    10\n",
      "42    10\n",
      "36    10\n",
      "Name: item, dtype: int64\n",
      "count    50.000000\n",
      "mean      6.560000\n",
      "std       2.177435\n",
      "min       3.000000\n",
      "25%       5.000000\n",
      "50%       6.000000\n",
      "75%       8.750000\n",
      "max      10.000000\n",
      "Name: item, dtype: float64\n"
     ]
    }
   ],
   "source": [
    "user_food_variety = df.groupby('user_id')['item'].nunique()\n",
    "print(user_food_variety.sort_values())\n",
    "print(user_food_variety.describe())"
   ]
  },
  {
   "cell_type": "code",
   "execution_count": 12,
   "id": "03267483",
   "metadata": {},
   "outputs": [],
   "source": [
    "def filter_data(df, rare_foods, inactive_users):\n",
    "    df_filtered = df[~df['item'].isin(rare_foods.index)]\n",
    "    df_filtered = df_filtered[~df_filtered['user_id'].isin(inactive_users.index)]\n",
    "    return df_filtered"
   ]
  },
  {
   "cell_type": "code",
   "execution_count": 13,
   "id": "5a258856",
   "metadata": {},
   "outputs": [
    {
     "name": "stdout",
     "output_type": "stream",
     "text": [
      "(325, 3)\n"
     ]
    },
    {
     "data": {
      "application/vnd.microsoft.datawrangler.viewer.v0+json": {
       "columns": [
        {
         "name": "index",
         "rawType": "int64",
         "type": "integer"
        },
        {
         "name": "user_id",
         "rawType": "int64",
         "type": "integer"
        },
        {
         "name": "item",
         "rawType": "object",
         "type": "string"
        },
        {
         "name": "frequency",
         "rawType": "int64",
         "type": "integer"
        }
       ],
       "ref": "9ab5a750-2c38-41f4-beeb-363172cf4b37",
       "rows": [
        [
         "0",
         "1",
         "Jollof Rice",
         "2"
        ],
        [
         "1",
         "1",
         "Pasta",
         "1"
        ],
        [
         "2",
         "1",
         "Pizza",
         "5"
        ],
        [
         "3",
         "1",
         "Goat Meat",
         "1"
        ],
        [
         "4",
         "2",
         "Fried Rice",
         "2"
        ]
       ],
       "shape": {
        "columns": 3,
        "rows": 5
       }
      },
      "text/html": [
       "<div>\n",
       "<style scoped>\n",
       "    .dataframe tbody tr th:only-of-type {\n",
       "        vertical-align: middle;\n",
       "    }\n",
       "\n",
       "    .dataframe tbody tr th {\n",
       "        vertical-align: top;\n",
       "    }\n",
       "\n",
       "    .dataframe thead th {\n",
       "        text-align: right;\n",
       "    }\n",
       "</style>\n",
       "<table border=\"1\" class=\"dataframe\">\n",
       "  <thead>\n",
       "    <tr style=\"text-align: right;\">\n",
       "      <th></th>\n",
       "      <th>user_id</th>\n",
       "      <th>item</th>\n",
       "      <th>frequency</th>\n",
       "    </tr>\n",
       "  </thead>\n",
       "  <tbody>\n",
       "    <tr>\n",
       "      <th>0</th>\n",
       "      <td>1</td>\n",
       "      <td>Jollof Rice</td>\n",
       "      <td>2</td>\n",
       "    </tr>\n",
       "    <tr>\n",
       "      <th>1</th>\n",
       "      <td>1</td>\n",
       "      <td>Pasta</td>\n",
       "      <td>1</td>\n",
       "    </tr>\n",
       "    <tr>\n",
       "      <th>2</th>\n",
       "      <td>1</td>\n",
       "      <td>Pizza</td>\n",
       "      <td>5</td>\n",
       "    </tr>\n",
       "    <tr>\n",
       "      <th>3</th>\n",
       "      <td>1</td>\n",
       "      <td>Goat Meat</td>\n",
       "      <td>1</td>\n",
       "    </tr>\n",
       "    <tr>\n",
       "      <th>4</th>\n",
       "      <td>2</td>\n",
       "      <td>Fried Rice</td>\n",
       "      <td>2</td>\n",
       "    </tr>\n",
       "  </tbody>\n",
       "</table>\n",
       "</div>"
      ],
      "text/plain": [
       "   user_id         item  frequency\n",
       "0        1  Jollof Rice          2\n",
       "1        1        Pasta          1\n",
       "2        1        Pizza          5\n",
       "3        1    Goat Meat          1\n",
       "4        2   Fried Rice          2"
      ]
     },
     "execution_count": 13,
     "metadata": {},
     "output_type": "execute_result"
    }
   ],
   "source": [
    "df1_filtered = filter_data(df, rare_foods, inactive_users)\n",
    "print(df1_filtered.shape)\n",
    "df1_filtered.head()"
   ]
  },
  {
   "cell_type": "code",
   "execution_count": 14,
   "id": "03e35911",
   "metadata": {},
   "outputs": [],
   "source": [
    "def create_user_item_matrix(df):\n",
    "    user_item_matrix = df.pivot_table(index='user_id', columns='item', values='frequency', fill_value=0)\n",
    "    return user_item_matrix"
   ]
  },
  {
   "cell_type": "code",
   "execution_count": 20,
   "id": "72e23b3e",
   "metadata": {},
   "outputs": [
    {
     "name": "stdout",
     "output_type": "stream",
     "text": [
      "(49, 20)\n"
     ]
    },
    {
     "data": {
      "application/vnd.microsoft.datawrangler.viewer.v0+json": {
       "columns": [
        {
         "name": "user_id",
         "rawType": "int64",
         "type": "integer"
        },
        {
         "name": "Amala",
         "rawType": "float64",
         "type": "float"
        },
        {
         "name": "Beans",
         "rawType": "float64",
         "type": "float"
        },
        {
         "name": "Burger",
         "rawType": "float64",
         "type": "float"
        },
        {
         "name": "Chicken Wings",
         "rawType": "float64",
         "type": "float"
        },
        {
         "name": "Efo Riro",
         "rawType": "float64",
         "type": "float"
        },
        {
         "name": "Egusi Soup",
         "rawType": "float64",
         "type": "float"
        },
        {
         "name": "Fish Stew",
         "rawType": "float64",
         "type": "float"
        },
        {
         "name": "Fried Rice",
         "rawType": "float64",
         "type": "float"
        },
        {
         "name": "Fufu",
         "rawType": "float64",
         "type": "float"
        },
        {
         "name": "Goat Meat",
         "rawType": "float64",
         "type": "float"
        },
        {
         "name": "Ice Cream",
         "rawType": "float64",
         "type": "float"
        },
        {
         "name": "Jollof Rice",
         "rawType": "float64",
         "type": "float"
        },
        {
         "name": "Pasta",
         "rawType": "float64",
         "type": "float"
        },
        {
         "name": "Pizza",
         "rawType": "float64",
         "type": "float"
        },
        {
         "name": "Plantain",
         "rawType": "float64",
         "type": "float"
        },
        {
         "name": "Pounded Yam",
         "rawType": "float64",
         "type": "float"
        },
        {
         "name": "Salad",
         "rawType": "float64",
         "type": "float"
        },
        {
         "name": "Sandwich",
         "rawType": "float64",
         "type": "float"
        },
        {
         "name": "Shawarma",
         "rawType": "float64",
         "type": "float"
        },
        {
         "name": "Suya",
         "rawType": "float64",
         "type": "float"
        }
       ],
       "ref": "0f6ce28c-3e37-42f2-a8bd-5de07b899c79",
       "rows": [
        [
         "1",
         "0.0",
         "0.0",
         "0.0",
         "0.0",
         "0.0",
         "0.0",
         "0.0",
         "0.0",
         "0.0",
         "1.0",
         "0.0",
         "2.0",
         "1.0",
         "5.0",
         "0.0",
         "0.0",
         "0.0",
         "0.0",
         "0.0",
         "0.0"
        ],
        [
         "2",
         "0.0",
         "0.0",
         "2.0",
         "0.0",
         "0.0",
         "4.0",
         "0.0",
         "2.0",
         "0.0",
         "0.0",
         "0.0",
         "5.0",
         "5.0",
         "4.0",
         "2.0",
         "0.0",
         "1.0",
         "3.0",
         "0.0",
         "0.0"
        ],
        [
         "3",
         "0.0",
         "4.0",
         "3.0",
         "0.0",
         "0.0",
         "0.0",
         "1.0",
         "4.0",
         "3.0",
         "0.0",
         "1.0",
         "0.0",
         "3.0",
         "0.0",
         "5.0",
         "0.0",
         "0.0",
         "0.0",
         "0.0",
         "5.0"
        ],
        [
         "4",
         "2.0",
         "0.0",
         "3.0",
         "0.0",
         "0.0",
         "0.0",
         "0.0",
         "0.0",
         "0.0",
         "1.0",
         "0.0",
         "0.0",
         "0.0",
         "0.0",
         "0.0",
         "0.0",
         "0.0",
         "1.0",
         "0.0",
         "0.0"
        ],
        [
         "5",
         "0.0",
         "0.0",
         "0.0",
         "0.0",
         "3.0",
         "0.0",
         "0.0",
         "0.0",
         "0.0",
         "0.0",
         "0.0",
         "0.0",
         "3.0",
         "4.0",
         "0.0",
         "2.0",
         "0.0",
         "0.0",
         "0.0",
         "0.0"
        ]
       ],
       "shape": {
        "columns": 20,
        "rows": 5
       }
      },
      "text/html": [
       "<div>\n",
       "<style scoped>\n",
       "    .dataframe tbody tr th:only-of-type {\n",
       "        vertical-align: middle;\n",
       "    }\n",
       "\n",
       "    .dataframe tbody tr th {\n",
       "        vertical-align: top;\n",
       "    }\n",
       "\n",
       "    .dataframe thead th {\n",
       "        text-align: right;\n",
       "    }\n",
       "</style>\n",
       "<table border=\"1\" class=\"dataframe\">\n",
       "  <thead>\n",
       "    <tr style=\"text-align: right;\">\n",
       "      <th>item</th>\n",
       "      <th>Amala</th>\n",
       "      <th>Beans</th>\n",
       "      <th>Burger</th>\n",
       "      <th>Chicken Wings</th>\n",
       "      <th>Efo Riro</th>\n",
       "      <th>Egusi Soup</th>\n",
       "      <th>Fish Stew</th>\n",
       "      <th>Fried Rice</th>\n",
       "      <th>Fufu</th>\n",
       "      <th>Goat Meat</th>\n",
       "      <th>Ice Cream</th>\n",
       "      <th>Jollof Rice</th>\n",
       "      <th>Pasta</th>\n",
       "      <th>Pizza</th>\n",
       "      <th>Plantain</th>\n",
       "      <th>Pounded Yam</th>\n",
       "      <th>Salad</th>\n",
       "      <th>Sandwich</th>\n",
       "      <th>Shawarma</th>\n",
       "      <th>Suya</th>\n",
       "    </tr>\n",
       "    <tr>\n",
       "      <th>user_id</th>\n",
       "      <th></th>\n",
       "      <th></th>\n",
       "      <th></th>\n",
       "      <th></th>\n",
       "      <th></th>\n",
       "      <th></th>\n",
       "      <th></th>\n",
       "      <th></th>\n",
       "      <th></th>\n",
       "      <th></th>\n",
       "      <th></th>\n",
       "      <th></th>\n",
       "      <th></th>\n",
       "      <th></th>\n",
       "      <th></th>\n",
       "      <th></th>\n",
       "      <th></th>\n",
       "      <th></th>\n",
       "      <th></th>\n",
       "      <th></th>\n",
       "    </tr>\n",
       "  </thead>\n",
       "  <tbody>\n",
       "    <tr>\n",
       "      <th>1</th>\n",
       "      <td>0.0</td>\n",
       "      <td>0.0</td>\n",
       "      <td>0.0</td>\n",
       "      <td>0.0</td>\n",
       "      <td>0.0</td>\n",
       "      <td>0.0</td>\n",
       "      <td>0.0</td>\n",
       "      <td>0.0</td>\n",
       "      <td>0.0</td>\n",
       "      <td>1.0</td>\n",
       "      <td>0.0</td>\n",
       "      <td>2.0</td>\n",
       "      <td>1.0</td>\n",
       "      <td>5.0</td>\n",
       "      <td>0.0</td>\n",
       "      <td>0.0</td>\n",
       "      <td>0.0</td>\n",
       "      <td>0.0</td>\n",
       "      <td>0.0</td>\n",
       "      <td>0.0</td>\n",
       "    </tr>\n",
       "    <tr>\n",
       "      <th>2</th>\n",
       "      <td>0.0</td>\n",
       "      <td>0.0</td>\n",
       "      <td>2.0</td>\n",
       "      <td>0.0</td>\n",
       "      <td>0.0</td>\n",
       "      <td>4.0</td>\n",
       "      <td>0.0</td>\n",
       "      <td>2.0</td>\n",
       "      <td>0.0</td>\n",
       "      <td>0.0</td>\n",
       "      <td>0.0</td>\n",
       "      <td>5.0</td>\n",
       "      <td>5.0</td>\n",
       "      <td>4.0</td>\n",
       "      <td>2.0</td>\n",
       "      <td>0.0</td>\n",
       "      <td>1.0</td>\n",
       "      <td>3.0</td>\n",
       "      <td>0.0</td>\n",
       "      <td>0.0</td>\n",
       "    </tr>\n",
       "    <tr>\n",
       "      <th>3</th>\n",
       "      <td>0.0</td>\n",
       "      <td>4.0</td>\n",
       "      <td>3.0</td>\n",
       "      <td>0.0</td>\n",
       "      <td>0.0</td>\n",
       "      <td>0.0</td>\n",
       "      <td>1.0</td>\n",
       "      <td>4.0</td>\n",
       "      <td>3.0</td>\n",
       "      <td>0.0</td>\n",
       "      <td>1.0</td>\n",
       "      <td>0.0</td>\n",
       "      <td>3.0</td>\n",
       "      <td>0.0</td>\n",
       "      <td>5.0</td>\n",
       "      <td>0.0</td>\n",
       "      <td>0.0</td>\n",
       "      <td>0.0</td>\n",
       "      <td>0.0</td>\n",
       "      <td>5.0</td>\n",
       "    </tr>\n",
       "    <tr>\n",
       "      <th>4</th>\n",
       "      <td>2.0</td>\n",
       "      <td>0.0</td>\n",
       "      <td>3.0</td>\n",
       "      <td>0.0</td>\n",
       "      <td>0.0</td>\n",
       "      <td>0.0</td>\n",
       "      <td>0.0</td>\n",
       "      <td>0.0</td>\n",
       "      <td>0.0</td>\n",
       "      <td>1.0</td>\n",
       "      <td>0.0</td>\n",
       "      <td>0.0</td>\n",
       "      <td>0.0</td>\n",
       "      <td>0.0</td>\n",
       "      <td>0.0</td>\n",
       "      <td>0.0</td>\n",
       "      <td>0.0</td>\n",
       "      <td>1.0</td>\n",
       "      <td>0.0</td>\n",
       "      <td>0.0</td>\n",
       "    </tr>\n",
       "    <tr>\n",
       "      <th>5</th>\n",
       "      <td>0.0</td>\n",
       "      <td>0.0</td>\n",
       "      <td>0.0</td>\n",
       "      <td>0.0</td>\n",
       "      <td>3.0</td>\n",
       "      <td>0.0</td>\n",
       "      <td>0.0</td>\n",
       "      <td>0.0</td>\n",
       "      <td>0.0</td>\n",
       "      <td>0.0</td>\n",
       "      <td>0.0</td>\n",
       "      <td>0.0</td>\n",
       "      <td>3.0</td>\n",
       "      <td>4.0</td>\n",
       "      <td>0.0</td>\n",
       "      <td>2.0</td>\n",
       "      <td>0.0</td>\n",
       "      <td>0.0</td>\n",
       "      <td>0.0</td>\n",
       "      <td>0.0</td>\n",
       "    </tr>\n",
       "  </tbody>\n",
       "</table>\n",
       "</div>"
      ],
      "text/plain": [
       "item     Amala  Beans  Burger  Chicken Wings  Efo Riro  Egusi Soup  Fish Stew  \\\n",
       "user_id                                                                         \n",
       "1          0.0    0.0     0.0            0.0       0.0         0.0        0.0   \n",
       "2          0.0    0.0     2.0            0.0       0.0         4.0        0.0   \n",
       "3          0.0    4.0     3.0            0.0       0.0         0.0        1.0   \n",
       "4          2.0    0.0     3.0            0.0       0.0         0.0        0.0   \n",
       "5          0.0    0.0     0.0            0.0       3.0         0.0        0.0   \n",
       "\n",
       "item     Fried Rice  Fufu  Goat Meat  Ice Cream  Jollof Rice  Pasta  Pizza  \\\n",
       "user_id                                                                      \n",
       "1               0.0   0.0        1.0        0.0          2.0    1.0    5.0   \n",
       "2               2.0   0.0        0.0        0.0          5.0    5.0    4.0   \n",
       "3               4.0   3.0        0.0        1.0          0.0    3.0    0.0   \n",
       "4               0.0   0.0        1.0        0.0          0.0    0.0    0.0   \n",
       "5               0.0   0.0        0.0        0.0          0.0    3.0    4.0   \n",
       "\n",
       "item     Plantain  Pounded Yam  Salad  Sandwich  Shawarma  Suya  \n",
       "user_id                                                          \n",
       "1             0.0          0.0    0.0       0.0       0.0   0.0  \n",
       "2             2.0          0.0    1.0       3.0       0.0   0.0  \n",
       "3             5.0          0.0    0.0       0.0       0.0   5.0  \n",
       "4             0.0          0.0    0.0       1.0       0.0   0.0  \n",
       "5             0.0          2.0    0.0       0.0       0.0   0.0  "
      ]
     },
     "execution_count": 20,
     "metadata": {},
     "output_type": "execute_result"
    }
   ],
   "source": [
    "df_user_item = create_user_item_matrix(df1_filtered)\n",
    "print(df_user_item.shape)\n",
    "df_user_item.head()"
   ]
  },
  {
   "cell_type": "code",
   "execution_count": 21,
   "id": "c60ee5a6",
   "metadata": {},
   "outputs": [
    {
     "data": {
      "application/vnd.microsoft.datawrangler.viewer.v0+json": {
       "columns": [
        {
         "name": "user_id",
         "rawType": "int64",
         "type": "integer"
        },
        {
         "name": "Amala",
         "rawType": "float64",
         "type": "float"
        },
        {
         "name": "Beans",
         "rawType": "float64",
         "type": "float"
        },
        {
         "name": "Burger",
         "rawType": "float64",
         "type": "float"
        },
        {
         "name": "Chicken Wings",
         "rawType": "float64",
         "type": "float"
        },
        {
         "name": "Efo Riro",
         "rawType": "float64",
         "type": "float"
        },
        {
         "name": "Egusi Soup",
         "rawType": "float64",
         "type": "float"
        },
        {
         "name": "Fish Stew",
         "rawType": "float64",
         "type": "float"
        },
        {
         "name": "Fried Rice",
         "rawType": "float64",
         "type": "float"
        },
        {
         "name": "Fufu",
         "rawType": "float64",
         "type": "float"
        },
        {
         "name": "Goat Meat",
         "rawType": "float64",
         "type": "float"
        },
        {
         "name": "Ice Cream",
         "rawType": "float64",
         "type": "float"
        },
        {
         "name": "Jollof Rice",
         "rawType": "float64",
         "type": "float"
        },
        {
         "name": "Pasta",
         "rawType": "float64",
         "type": "float"
        },
        {
         "name": "Pizza",
         "rawType": "float64",
         "type": "float"
        },
        {
         "name": "Plantain",
         "rawType": "float64",
         "type": "float"
        },
        {
         "name": "Pounded Yam",
         "rawType": "float64",
         "type": "float"
        },
        {
         "name": "Salad",
         "rawType": "float64",
         "type": "float"
        },
        {
         "name": "Sandwich",
         "rawType": "float64",
         "type": "float"
        },
        {
         "name": "Shawarma",
         "rawType": "float64",
         "type": "float"
        },
        {
         "name": "Suya",
         "rawType": "float64",
         "type": "float"
        }
       ],
       "ref": "57ba7035-9249-40ff-ab8f-e8e608f2ca62",
       "rows": [
        [
         "1",
         "0.0",
         "0.0",
         "0.0",
         "0.0",
         "0.0",
         "0.0",
         "0.0",
         "0.0",
         "0.0",
         "1.0",
         "0.0",
         "2.0",
         "1.0",
         "5.0",
         "0.0",
         "0.0",
         "0.0",
         "0.0",
         "0.0",
         "0.0"
        ],
        [
         "2",
         "0.0",
         "0.0",
         "2.0",
         "0.0",
         "0.0",
         "4.0",
         "0.0",
         "2.0",
         "0.0",
         "0.0",
         "0.0",
         "5.0",
         "5.0",
         "4.0",
         "2.0",
         "0.0",
         "1.0",
         "3.0",
         "0.0",
         "0.0"
        ],
        [
         "3",
         "0.0",
         "4.0",
         "3.0",
         "0.0",
         "0.0",
         "0.0",
         "1.0",
         "4.0",
         "3.0",
         "0.0",
         "1.0",
         "0.0",
         "3.0",
         "0.0",
         "5.0",
         "0.0",
         "0.0",
         "0.0",
         "0.0",
         "5.0"
        ],
        [
         "4",
         "2.0",
         "0.0",
         "3.0",
         "0.0",
         "0.0",
         "0.0",
         "0.0",
         "0.0",
         "0.0",
         "1.0",
         "0.0",
         "0.0",
         "0.0",
         "0.0",
         "0.0",
         "0.0",
         "0.0",
         "1.0",
         "0.0",
         "0.0"
        ],
        [
         "5",
         "0.0",
         "0.0",
         "0.0",
         "0.0",
         "3.0",
         "0.0",
         "0.0",
         "0.0",
         "0.0",
         "0.0",
         "0.0",
         "0.0",
         "3.0",
         "4.0",
         "0.0",
         "2.0",
         "0.0",
         "0.0",
         "0.0",
         "0.0"
        ]
       ],
       "shape": {
        "columns": 20,
        "rows": 5
       }
      },
      "text/html": [
       "<div>\n",
       "<style scoped>\n",
       "    .dataframe tbody tr th:only-of-type {\n",
       "        vertical-align: middle;\n",
       "    }\n",
       "\n",
       "    .dataframe tbody tr th {\n",
       "        vertical-align: top;\n",
       "    }\n",
       "\n",
       "    .dataframe thead th {\n",
       "        text-align: right;\n",
       "    }\n",
       "</style>\n",
       "<table border=\"1\" class=\"dataframe\">\n",
       "  <thead>\n",
       "    <tr style=\"text-align: right;\">\n",
       "      <th>item</th>\n",
       "      <th>Amala</th>\n",
       "      <th>Beans</th>\n",
       "      <th>Burger</th>\n",
       "      <th>Chicken Wings</th>\n",
       "      <th>Efo Riro</th>\n",
       "      <th>Egusi Soup</th>\n",
       "      <th>Fish Stew</th>\n",
       "      <th>Fried Rice</th>\n",
       "      <th>Fufu</th>\n",
       "      <th>Goat Meat</th>\n",
       "      <th>Ice Cream</th>\n",
       "      <th>Jollof Rice</th>\n",
       "      <th>Pasta</th>\n",
       "      <th>Pizza</th>\n",
       "      <th>Plantain</th>\n",
       "      <th>Pounded Yam</th>\n",
       "      <th>Salad</th>\n",
       "      <th>Sandwich</th>\n",
       "      <th>Shawarma</th>\n",
       "      <th>Suya</th>\n",
       "    </tr>\n",
       "    <tr>\n",
       "      <th>user_id</th>\n",
       "      <th></th>\n",
       "      <th></th>\n",
       "      <th></th>\n",
       "      <th></th>\n",
       "      <th></th>\n",
       "      <th></th>\n",
       "      <th></th>\n",
       "      <th></th>\n",
       "      <th></th>\n",
       "      <th></th>\n",
       "      <th></th>\n",
       "      <th></th>\n",
       "      <th></th>\n",
       "      <th></th>\n",
       "      <th></th>\n",
       "      <th></th>\n",
       "      <th></th>\n",
       "      <th></th>\n",
       "      <th></th>\n",
       "      <th></th>\n",
       "    </tr>\n",
       "  </thead>\n",
       "  <tbody>\n",
       "    <tr>\n",
       "      <th>1</th>\n",
       "      <td>0.0</td>\n",
       "      <td>0.0</td>\n",
       "      <td>0.0</td>\n",
       "      <td>0.0</td>\n",
       "      <td>0.0</td>\n",
       "      <td>0.0</td>\n",
       "      <td>0.0</td>\n",
       "      <td>0.0</td>\n",
       "      <td>0.0</td>\n",
       "      <td>1.0</td>\n",
       "      <td>0.0</td>\n",
       "      <td>2.0</td>\n",
       "      <td>1.0</td>\n",
       "      <td>5.0</td>\n",
       "      <td>0.0</td>\n",
       "      <td>0.0</td>\n",
       "      <td>0.0</td>\n",
       "      <td>0.0</td>\n",
       "      <td>0.0</td>\n",
       "      <td>0.0</td>\n",
       "    </tr>\n",
       "    <tr>\n",
       "      <th>2</th>\n",
       "      <td>0.0</td>\n",
       "      <td>0.0</td>\n",
       "      <td>2.0</td>\n",
       "      <td>0.0</td>\n",
       "      <td>0.0</td>\n",
       "      <td>4.0</td>\n",
       "      <td>0.0</td>\n",
       "      <td>2.0</td>\n",
       "      <td>0.0</td>\n",
       "      <td>0.0</td>\n",
       "      <td>0.0</td>\n",
       "      <td>5.0</td>\n",
       "      <td>5.0</td>\n",
       "      <td>4.0</td>\n",
       "      <td>2.0</td>\n",
       "      <td>0.0</td>\n",
       "      <td>1.0</td>\n",
       "      <td>3.0</td>\n",
       "      <td>0.0</td>\n",
       "      <td>0.0</td>\n",
       "    </tr>\n",
       "    <tr>\n",
       "      <th>3</th>\n",
       "      <td>0.0</td>\n",
       "      <td>4.0</td>\n",
       "      <td>3.0</td>\n",
       "      <td>0.0</td>\n",
       "      <td>0.0</td>\n",
       "      <td>0.0</td>\n",
       "      <td>1.0</td>\n",
       "      <td>4.0</td>\n",
       "      <td>3.0</td>\n",
       "      <td>0.0</td>\n",
       "      <td>1.0</td>\n",
       "      <td>0.0</td>\n",
       "      <td>3.0</td>\n",
       "      <td>0.0</td>\n",
       "      <td>5.0</td>\n",
       "      <td>0.0</td>\n",
       "      <td>0.0</td>\n",
       "      <td>0.0</td>\n",
       "      <td>0.0</td>\n",
       "      <td>5.0</td>\n",
       "    </tr>\n",
       "    <tr>\n",
       "      <th>4</th>\n",
       "      <td>2.0</td>\n",
       "      <td>0.0</td>\n",
       "      <td>3.0</td>\n",
       "      <td>0.0</td>\n",
       "      <td>0.0</td>\n",
       "      <td>0.0</td>\n",
       "      <td>0.0</td>\n",
       "      <td>0.0</td>\n",
       "      <td>0.0</td>\n",
       "      <td>1.0</td>\n",
       "      <td>0.0</td>\n",
       "      <td>0.0</td>\n",
       "      <td>0.0</td>\n",
       "      <td>0.0</td>\n",
       "      <td>0.0</td>\n",
       "      <td>0.0</td>\n",
       "      <td>0.0</td>\n",
       "      <td>1.0</td>\n",
       "      <td>0.0</td>\n",
       "      <td>0.0</td>\n",
       "    </tr>\n",
       "    <tr>\n",
       "      <th>5</th>\n",
       "      <td>0.0</td>\n",
       "      <td>0.0</td>\n",
       "      <td>0.0</td>\n",
       "      <td>0.0</td>\n",
       "      <td>3.0</td>\n",
       "      <td>0.0</td>\n",
       "      <td>0.0</td>\n",
       "      <td>0.0</td>\n",
       "      <td>0.0</td>\n",
       "      <td>0.0</td>\n",
       "      <td>0.0</td>\n",
       "      <td>0.0</td>\n",
       "      <td>3.0</td>\n",
       "      <td>4.0</td>\n",
       "      <td>0.0</td>\n",
       "      <td>2.0</td>\n",
       "      <td>0.0</td>\n",
       "      <td>0.0</td>\n",
       "      <td>0.0</td>\n",
       "      <td>0.0</td>\n",
       "    </tr>\n",
       "  </tbody>\n",
       "</table>\n",
       "</div>"
      ],
      "text/plain": [
       "item     Amala  Beans  Burger  Chicken Wings  Efo Riro  Egusi Soup  Fish Stew  \\\n",
       "user_id                                                                         \n",
       "1          0.0    0.0     0.0            0.0       0.0         0.0        0.0   \n",
       "2          0.0    0.0     2.0            0.0       0.0         4.0        0.0   \n",
       "3          0.0    4.0     3.0            0.0       0.0         0.0        1.0   \n",
       "4          2.0    0.0     3.0            0.0       0.0         0.0        0.0   \n",
       "5          0.0    0.0     0.0            0.0       3.0         0.0        0.0   \n",
       "\n",
       "item     Fried Rice  Fufu  Goat Meat  Ice Cream  Jollof Rice  Pasta  Pizza  \\\n",
       "user_id                                                                      \n",
       "1               0.0   0.0        1.0        0.0          2.0    1.0    5.0   \n",
       "2               2.0   0.0        0.0        0.0          5.0    5.0    4.0   \n",
       "3               4.0   3.0        0.0        1.0          0.0    3.0    0.0   \n",
       "4               0.0   0.0        1.0        0.0          0.0    0.0    0.0   \n",
       "5               0.0   0.0        0.0        0.0          0.0    3.0    4.0   \n",
       "\n",
       "item     Plantain  Pounded Yam  Salad  Sandwich  Shawarma  Suya  \n",
       "user_id                                                          \n",
       "1             0.0          0.0    0.0       0.0       0.0   0.0  \n",
       "2             2.0          0.0    1.0       3.0       0.0   0.0  \n",
       "3             5.0          0.0    0.0       0.0       0.0   5.0  \n",
       "4             0.0          0.0    0.0       1.0       0.0   0.0  \n",
       "5             0.0          2.0    0.0       0.0       0.0   0.0  "
      ]
     },
     "execution_count": 21,
     "metadata": {},
     "output_type": "execute_result"
    }
   ],
   "source": [
    "min_frequency = 1\n",
    "user_item_matrix = df_user_item.where(df_user_item>=min_frequency, 0)\n",
    "user_item_matrix.head()"
   ]
  },
  {
   "cell_type": "code",
   "execution_count": null,
   "id": "5a82fbd5",
   "metadata": {},
   "outputs": [],
   "source": [
    "normalized_df = user_item_matrix.copy()\n",
    "normalized_df.loc[:, :] = normalize(user_item_matrix.values, norm='l2', axis=1)\n",
    "\n",
    "print(normalized_df.index)"
   ]
  },
  {
   "cell_type": "code",
   "execution_count": null,
   "id": "d70afc27",
   "metadata": {},
   "outputs": [],
   "source": [
    "def calculate_similarity_with_overlap(user1_vector, user2_vector, min_overlap=3):\n",
    "    common_items = np.sum((user1_vector > 0) & (user2_vector > 0))\n",
    "    \n",
    "    if common_items >= min_overlap:\n",
    "        return cosine_similarity([user1_vector], [user2_vector])[0][0]\n",
    "    else:\n",
    "        return 0 "
   ]
  }
 ],
 "metadata": {
  "kernelspec": {
   "display_name": "recommend-venv",
   "language": "python",
   "name": "python3"
  },
  "language_info": {
   "codemirror_mode": {
    "name": "ipython",
    "version": 3
   },
   "file_extension": ".py",
   "mimetype": "text/x-python",
   "name": "python",
   "nbconvert_exporter": "python",
   "pygments_lexer": "ipython3",
   "version": "3.12.4"
  }
 },
 "nbformat": 4,
 "nbformat_minor": 5
}
